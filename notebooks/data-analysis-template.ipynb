{
 "cells": [
  {
   "cell_type": "markdown",
   "id": "98bf38a3",
   "metadata": {},
   "source": [
    "# Python Fynesse Data Analysis Template\n",
    "\n",
    "### 31st May 2021\n",
    "\n",
    "### Neil D. Lawrence\n",
    "\n",
    "### Updated 31st October 2021\n",
    "\n",
    "This notebook serves as a stub for the fynesse data analysis pipeline.\n"
   ]
  },
  {
   "cell_type": "code",
   "execution_count": 3,
   "id": "3d81c9b5",
   "metadata": {},
   "outputs": [
    {
     "name": "stdout",
     "output_type": "stream",
     "text": [
      "\u001b[33mWARNING: Skipping fynesse as it is not installed.\u001b[0m\u001b[33m\n",
      "\u001b[0mNote: you may need to restart the kernel to use updated packages.\n"
     ]
    }
   ],
   "source": [
    "%pip uninstall --yes fynesse\n",
    "# Replace this with the location of your fynesse implementation.\n",
    "# %pip install git+https://github.com/lawrennd/fynesse_template.git\n"
   ]
  },
  {
   "cell_type": "code",
   "execution_count": 20,
   "id": "3f2a9043",
   "metadata": {},
   "outputs": [
    {
     "name": "stdout",
     "output_type": "stream",
     "text": [
      "The autoreload extension is already loaded. To reload it, use:\n",
      "  %reload_ext autoreload\n"
     ]
    }
   ],
   "source": [
    "import sys\n",
    "sys.path.insert(0, \"/Users/simon/Documents/II/fynesse/\")\n",
    "%load_ext autoreload\n",
    "%autoreload 2\n",
    "import fynesse"
   ]
  },
  {
   "cell_type": "code",
   "execution_count": 3,
   "id": "332048de",
   "metadata": {},
   "outputs": [
    {
     "data": {
      "text/plain": [
       "'https://raw.githubusercontent.com/lawrennd/datasets_mirror/main/'"
      ]
     },
     "execution_count": 3,
     "metadata": {},
     "output_type": "execute_result"
    }
   ],
   "source": [
    "fynesse.access.config['data_url']"
   ]
  },
  {
   "cell_type": "code",
   "execution_count": 4,
   "metadata": {},
   "outputs": [],
   "source": [
    "import yaml\n",
    "# Setup code needed for setting up database access\n",
    "database_details = {\"url\": \"database-ads-sl2057.cgrre17yxw11.eu-west-2.rds.amazonaws.com\",\n",
    "                    \"port\": 3306}\n",
    "\n",
    "with open(\"credentials.yaml\") as file:\n",
    "  credentials = yaml.safe_load(file)\n",
    "username = credentials[\"username\"]\n",
    "password = credentials[\"password\"]\n",
    "url = database_details[\"url\"]"
   ]
  },
  {
   "cell_type": "code",
   "execution_count": 35,
   "id": "d30ff51b",
   "metadata": {},
   "outputs": [
    {
     "name": "stdout",
     "output_type": "stream",
     "text": [
      "Successfully connected to server.\n"
     ]
    }
   ],
   "source": [
    "db = fynesse.access.Database(username=username, password=password, url=url)\n",
    "db.use_database(\"property_prices\")"
   ]
  },
  {
   "cell_type": "code",
   "execution_count": 43,
   "metadata": {},
   "outputs": [
    {
     "data": {
      "text/html": [
       "<div>\n",
       "<style scoped>\n",
       "    .dataframe tbody tr th:only-of-type {\n",
       "        vertical-align: middle;\n",
       "    }\n",
       "\n",
       "    .dataframe tbody tr th {\n",
       "        vertical-align: top;\n",
       "    }\n",
       "\n",
       "    .dataframe thead th {\n",
       "        text-align: right;\n",
       "    }\n",
       "</style>\n",
       "<table border=\"1\" class=\"dataframe\">\n",
       "  <thead>\n",
       "    <tr style=\"text-align: right;\">\n",
       "      <th></th>\n",
       "      <th>Id</th>\n",
       "      <th>User</th>\n",
       "      <th>Host</th>\n",
       "      <th>db</th>\n",
       "      <th>Command</th>\n",
       "      <th>Time</th>\n",
       "      <th>State</th>\n",
       "      <th>Info</th>\n",
       "      <th>Progress</th>\n",
       "    </tr>\n",
       "  </thead>\n",
       "  <tbody>\n",
       "    <tr>\n",
       "      <th>0</th>\n",
       "      <td>4</td>\n",
       "      <td>rdsadmin</td>\n",
       "      <td>localhost</td>\n",
       "      <td>mysql</td>\n",
       "      <td>Sleep</td>\n",
       "      <td>5</td>\n",
       "      <td></td>\n",
       "      <td>None</td>\n",
       "      <td>0.0</td>\n",
       "    </tr>\n",
       "    <tr>\n",
       "      <th>1</th>\n",
       "      <td>9</td>\n",
       "      <td>admin</td>\n",
       "      <td>131.111.5.246:61421</td>\n",
       "      <td>property_prices</td>\n",
       "      <td>Query</td>\n",
       "      <td>0</td>\n",
       "      <td>starting</td>\n",
       "      <td>SHOW FULL PROCESSLIST</td>\n",
       "      <td>0.0</td>\n",
       "    </tr>\n",
       "    <tr>\n",
       "      <th>2</th>\n",
       "      <td>1389</td>\n",
       "      <td>admin</td>\n",
       "      <td>131.111.5.246:62771</td>\n",
       "      <td>property_prices</td>\n",
       "      <td>Sleep</td>\n",
       "      <td>16</td>\n",
       "      <td></td>\n",
       "      <td>None</td>\n",
       "      <td>0.0</td>\n",
       "    </tr>\n",
       "  </tbody>\n",
       "</table>\n",
       "</div>"
      ],
      "text/plain": [
       "     Id      User                 Host               db Command  Time  \\\n",
       "0     4  rdsadmin            localhost            mysql   Sleep     5   \n",
       "1     9     admin  131.111.5.246:61421  property_prices   Query     0   \n",
       "2  1389     admin  131.111.5.246:62771  property_prices   Sleep    16   \n",
       "\n",
       "      State                   Info  Progress  \n",
       "0                             None       0.0  \n",
       "1  starting  SHOW FULL PROCESSLIST       0.0  \n",
       "2                             None       0.0  "
      ]
     },
     "execution_count": 43,
     "metadata": {},
     "output_type": "execute_result"
    }
   ],
   "source": [
    "# db.kill_process(6)\n",
    "db.get_processlist()"
   ]
  },
  {
   "cell_type": "markdown",
   "metadata": {},
   "source": [
    "# Data Exploration\n",
    "\n",
    "Understanding what is in the data. Is it what it's purported to be, how are missing values encoded, what are the outliers, what does each variable represent and how is it encoded.\n",
    "\n",
    "Data that is accessible can be imported (via APIs or database calls or reading a CSV) into the machine and work can be done understanding the nature of the data. The important thing to say about the assess aspect is that it only includes things you can do *without* the question in mind. This runs counter to many ideas about how we do data analytics. The history of statistics was that we think of the question *before* we collect data. But that was because data was expensive, and it needed to be excplicitly collected. The same mantra is true today of *surveillance data*. But the new challenge is around *happenstance data*, data that is cheaply available but may be of poor quality. The nature of the data needs to be understood before its integrated into analysis. Unfortunately, because the work is conflated with other aspects, decisions are sometimes made during assessment (for example approaches to imputing missing values) which may be useful in one context, but are useless in others. So the aim in *assess* is to only do work that is repeatable, and make that work available to others who may also want to use the data."
   ]
  },
  {
   "cell_type": "code",
   "execution_count": 7,
   "metadata": {},
   "outputs": [],
   "source": [
    "import pandas as pd\n",
    "pd.set_option('display.max_rows', 500)\n",
    "import matplotlib.pyplot as plt\n",
    "import seaborn as sns\n",
    "import numpy as np\n",
    "from scipy.stats import norm\n",
    "from sklearn.preprocessing import StandardScaler\n",
    "from scipy import stats\n",
    "import warnings\n",
    "warnings.filterwarnings('ignore')\n",
    "%matplotlib inline"
   ]
  },
  {
   "cell_type": "markdown",
   "metadata": {},
   "source": [
    "# Access"
   ]
  },
  {
   "cell_type": "code",
   "execution_count": 10,
   "metadata": {},
   "outputs": [
    {
     "data": {
      "text/html": [
       "<div>\n",
       "<style scoped>\n",
       "    .dataframe tbody tr th:only-of-type {\n",
       "        vertical-align: middle;\n",
       "    }\n",
       "\n",
       "    .dataframe tbody tr th {\n",
       "        vertical-align: top;\n",
       "    }\n",
       "\n",
       "    .dataframe thead th {\n",
       "        text-align: right;\n",
       "    }\n",
       "</style>\n",
       "<table border=\"1\" class=\"dataframe\">\n",
       "  <thead>\n",
       "    <tr style=\"text-align: right;\">\n",
       "      <th></th>\n",
       "      <th>Table</th>\n",
       "      <th>Non_unique</th>\n",
       "      <th>Key_name</th>\n",
       "      <th>Seq_in_index</th>\n",
       "      <th>Column_name</th>\n",
       "      <th>Collation</th>\n",
       "      <th>Cardinality</th>\n",
       "      <th>Sub_part</th>\n",
       "      <th>Packed</th>\n",
       "      <th>Null</th>\n",
       "      <th>Index_type</th>\n",
       "      <th>Comment</th>\n",
       "      <th>Index_comment</th>\n",
       "      <th>Ignored</th>\n",
       "    </tr>\n",
       "  </thead>\n",
       "  <tbody>\n",
       "    <tr>\n",
       "      <th>0</th>\n",
       "      <td>prices_coordinates_data</td>\n",
       "      <td>0</td>\n",
       "      <td>PRIMARY</td>\n",
       "      <td>1</td>\n",
       "      <td>db_id</td>\n",
       "      <td>A</td>\n",
       "      <td>790051</td>\n",
       "      <td>None</td>\n",
       "      <td>None</td>\n",
       "      <td></td>\n",
       "      <td>BTREE</td>\n",
       "      <td></td>\n",
       "      <td></td>\n",
       "      <td>NO</td>\n",
       "    </tr>\n",
       "  </tbody>\n",
       "</table>\n",
       "</div>"
      ],
      "text/plain": [
       "                     Table  Non_unique Key_name  Seq_in_index Column_name  \\\n",
       "0  prices_coordinates_data           0  PRIMARY             1       db_id   \n",
       "\n",
       "  Collation  Cardinality Sub_part Packed Null Index_type Comment  \\\n",
       "0         A       790051     None   None           BTREE           \n",
       "\n",
       "  Index_comment Ignored  \n",
       "0                    NO  "
      ]
     },
     "execution_count": 10,
     "metadata": {},
     "output_type": "execute_result"
    }
   ],
   "source": [
    "db.show_indexes(\"prices_coordinates_data\")"
   ]
  },
  {
   "cell_type": "code",
   "execution_count": 55,
   "metadata": {},
   "outputs": [
    {
     "data": {
      "text/html": [
       "<div>\n",
       "<style scoped>\n",
       "    .dataframe tbody tr th:only-of-type {\n",
       "        vertical-align: middle;\n",
       "    }\n",
       "\n",
       "    .dataframe tbody tr th {\n",
       "        vertical-align: top;\n",
       "    }\n",
       "\n",
       "    .dataframe thead th {\n",
       "        text-align: right;\n",
       "    }\n",
       "</style>\n",
       "<table border=\"1\" class=\"dataframe\">\n",
       "  <thead>\n",
       "    <tr style=\"text-align: right;\">\n",
       "      <th></th>\n",
       "      <th>COUNT(db_id)</th>\n",
       "    </tr>\n",
       "  </thead>\n",
       "  <tbody>\n",
       "    <tr>\n",
       "      <th>0</th>\n",
       "      <td>0</td>\n",
       "    </tr>\n",
       "  </tbody>\n",
       "</table>\n",
       "</div>"
      ],
      "text/plain": [
       "   COUNT(db_id)\n",
       "0             0"
      ]
     },
     "execution_count": 55,
     "metadata": {},
     "output_type": "execute_result"
    }
   ],
   "source": [
    "db.execute_to_df(\"SELECT COUNT(db_id) FROM prices_coordinates_data\")"
   ]
  },
  {
   "cell_type": "code",
   "execution_count": 45,
   "metadata": {},
   "outputs": [
    {
     "ename": "InterfaceError",
     "evalue": "(0, '')",
     "output_type": "error",
     "traceback": [
      "\u001b[0;31m---------------------------------------------------------------------------\u001b[0m",
      "\u001b[0;31mInterfaceError\u001b[0m                            Traceback (most recent call last)",
      "\u001b[1;32m/Users/simon/Documents/II/fynesse/notebooks/data-analysis-template.ipynb Cell 13\u001b[0m line \u001b[0;36m1\n\u001b[0;32m----> <a href='vscode-notebook-cell:/Users/simon/Documents/II/fynesse/notebooks/data-analysis-template.ipynb#X22sZmlsZQ%3D%3D?line=0'>1</a>\u001b[0m db\u001b[39m.\u001b[39;49mexecute_to_df(\u001b[39m\"\u001b[39;49m\u001b[39mSELECT * FROM pp_data LIMIT 1\u001b[39;49m\u001b[39m\"\u001b[39;49m)\n",
      "File \u001b[0;32m~/Documents/II/fynesse/fynesse/access.py:83\u001b[0m, in \u001b[0;36mDatabase.execute_to_df\u001b[0;34m(self, sql)\u001b[0m\n\u001b[1;32m     81\u001b[0m \u001b[39mdef\u001b[39;00m \u001b[39mexecute_to_df\u001b[39m(\u001b[39mself\u001b[39m, sql):\n\u001b[1;32m     82\u001b[0m     cur \u001b[39m=\u001b[39m \u001b[39mself\u001b[39m\u001b[39m.\u001b[39mconn\u001b[39m.\u001b[39mcursor()\n\u001b[0;32m---> 83\u001b[0m     cur\u001b[39m.\u001b[39;49mexecute(sql)\n\u001b[1;32m     84\u001b[0m     rows \u001b[39m=\u001b[39m cur\u001b[39m.\u001b[39mfetchall()\n\u001b[1;32m     85\u001b[0m     cols \u001b[39m=\u001b[39m [i[\u001b[39m0\u001b[39m] \u001b[39mfor\u001b[39;00m i \u001b[39min\u001b[39;00m cur\u001b[39m.\u001b[39mdescription]\n",
      "File \u001b[0;32m/opt/homebrew/lib/python3.11/site-packages/pymysql/cursors.py:153\u001b[0m, in \u001b[0;36mCursor.execute\u001b[0;34m(self, query, args)\u001b[0m\n\u001b[1;32m    149\u001b[0m     \u001b[39mpass\u001b[39;00m\n\u001b[1;32m    151\u001b[0m query \u001b[39m=\u001b[39m \u001b[39mself\u001b[39m\u001b[39m.\u001b[39mmogrify(query, args)\n\u001b[0;32m--> 153\u001b[0m result \u001b[39m=\u001b[39m \u001b[39mself\u001b[39;49m\u001b[39m.\u001b[39;49m_query(query)\n\u001b[1;32m    154\u001b[0m \u001b[39mself\u001b[39m\u001b[39m.\u001b[39m_executed \u001b[39m=\u001b[39m query\n\u001b[1;32m    155\u001b[0m \u001b[39mreturn\u001b[39;00m result\n",
      "File \u001b[0;32m/opt/homebrew/lib/python3.11/site-packages/pymysql/cursors.py:322\u001b[0m, in \u001b[0;36mCursor._query\u001b[0;34m(self, q)\u001b[0m\n\u001b[1;32m    320\u001b[0m conn \u001b[39m=\u001b[39m \u001b[39mself\u001b[39m\u001b[39m.\u001b[39m_get_db()\n\u001b[1;32m    321\u001b[0m \u001b[39mself\u001b[39m\u001b[39m.\u001b[39m_clear_result()\n\u001b[0;32m--> 322\u001b[0m conn\u001b[39m.\u001b[39;49mquery(q)\n\u001b[1;32m    323\u001b[0m \u001b[39mself\u001b[39m\u001b[39m.\u001b[39m_do_get_result()\n\u001b[1;32m    324\u001b[0m \u001b[39mreturn\u001b[39;00m \u001b[39mself\u001b[39m\u001b[39m.\u001b[39mrowcount\n",
      "File \u001b[0;32m/opt/homebrew/lib/python3.11/site-packages/pymysql/connections.py:557\u001b[0m, in \u001b[0;36mConnection.query\u001b[0;34m(self, sql, unbuffered)\u001b[0m\n\u001b[1;32m    555\u001b[0m \u001b[39mif\u001b[39;00m \u001b[39misinstance\u001b[39m(sql, \u001b[39mstr\u001b[39m):\n\u001b[1;32m    556\u001b[0m     sql \u001b[39m=\u001b[39m sql\u001b[39m.\u001b[39mencode(\u001b[39mself\u001b[39m\u001b[39m.\u001b[39mencoding, \u001b[39m\"\u001b[39m\u001b[39msurrogateescape\u001b[39m\u001b[39m\"\u001b[39m)\n\u001b[0;32m--> 557\u001b[0m \u001b[39mself\u001b[39;49m\u001b[39m.\u001b[39;49m_execute_command(COMMAND\u001b[39m.\u001b[39;49mCOM_QUERY, sql)\n\u001b[1;32m    558\u001b[0m \u001b[39mself\u001b[39m\u001b[39m.\u001b[39m_affected_rows \u001b[39m=\u001b[39m \u001b[39mself\u001b[39m\u001b[39m.\u001b[39m_read_query_result(unbuffered\u001b[39m=\u001b[39munbuffered)\n\u001b[1;32m    559\u001b[0m \u001b[39mreturn\u001b[39;00m \u001b[39mself\u001b[39m\u001b[39m.\u001b[39m_affected_rows\n",
      "File \u001b[0;32m/opt/homebrew/lib/python3.11/site-packages/pymysql/connections.py:840\u001b[0m, in \u001b[0;36mConnection._execute_command\u001b[0;34m(self, command, sql)\u001b[0m\n\u001b[1;32m    835\u001b[0m \u001b[39m\u001b[39m\u001b[39m\"\"\"\u001b[39;00m\n\u001b[1;32m    836\u001b[0m \u001b[39m:raise InterfaceError: If the connection is closed.\u001b[39;00m\n\u001b[1;32m    837\u001b[0m \u001b[39m:raise ValueError: If no username was specified.\u001b[39;00m\n\u001b[1;32m    838\u001b[0m \u001b[39m\"\"\"\u001b[39;00m\n\u001b[1;32m    839\u001b[0m \u001b[39mif\u001b[39;00m \u001b[39mnot\u001b[39;00m \u001b[39mself\u001b[39m\u001b[39m.\u001b[39m_sock:\n\u001b[0;32m--> 840\u001b[0m     \u001b[39mraise\u001b[39;00m err\u001b[39m.\u001b[39mInterfaceError(\u001b[39m0\u001b[39m, \u001b[39m\"\u001b[39m\u001b[39m\"\u001b[39m)\n\u001b[1;32m    842\u001b[0m \u001b[39m# If the last query was unbuffered, make sure it finishes before\u001b[39;00m\n\u001b[1;32m    843\u001b[0m \u001b[39m# sending new commands\u001b[39;00m\n\u001b[1;32m    844\u001b[0m \u001b[39mif\u001b[39;00m \u001b[39mself\u001b[39m\u001b[39m.\u001b[39m_result \u001b[39mis\u001b[39;00m \u001b[39mnot\u001b[39;00m \u001b[39mNone\u001b[39;00m:\n",
      "\u001b[0;31mInterfaceError\u001b[0m: (0, '')"
     ]
    }
   ],
   "source": [
    "db.execute_to_df(\"SELECT * FROM pp_data LIMIT 1\")"
   ]
  },
  {
   "cell_type": "markdown",
   "metadata": {},
   "source": [
    "## OpenStreetMap"
   ]
  },
  {
   "cell_type": "code",
   "execution_count": 383,
   "metadata": {},
   "outputs": [],
   "source": [
    "import osmnx as ox"
   ]
  },
  {
   "cell_type": "code",
   "execution_count": 394,
   "metadata": {},
   "outputs": [],
   "source": [
    "place_name = \"Cambridge\"\n",
    "latitude = 52.205276\n",
    "longitude = 0.119167\n",
    "\n",
    "box_width = 0.02 # About 2.2 km\n",
    "box_height = 0.02\n",
    "north = latitude + box_height/2\n",
    "south = latitude - box_height/2\n",
    "west = longitude - box_width/2\n",
    "east = longitude + box_width/2\n",
    "\n",
    "# Retrieve POIs\n",
    "tags = {\"amenity\": True,\n",
    "        \"buildings\": True,\n",
    "        \"historic\": True,\n",
    "        \"leisure\": True,\n",
    "        \"shop\": True,\n",
    "        \"tourism\": True}"
   ]
  },
  {
   "cell_type": "code",
   "execution_count": 392,
   "metadata": {},
   "outputs": [],
   "source": [
    "pois = ox.features_from_bbox(north, south, east, west, tags)"
   ]
  },
  {
   "cell_type": "code",
   "execution_count": 395,
   "metadata": {},
   "outputs": [
    {
     "name": "stdout",
     "output_type": "stream",
     "text": [
      "There are 2112 points of interest surrounding Cambridge latitude: 52.205276, longitude: 0.119167\n"
     ]
    }
   ],
   "source": [
    "print(\"There are {number} points of interest surrounding {placename} latitude: {latitude}, longitude: {longitude}\".format(number=len(pois), placename=place_name, latitude=latitude, longitude=longitude))"
   ]
  },
  {
   "cell_type": "code",
   "execution_count": 396,
   "metadata": {},
   "outputs": [
    {
     "data": {
      "text/plain": [
       "<bound method DataFrame.info of                           highway  \\\n",
       "element_type osmid                  \n",
       "node         20823646         NaN   \n",
       "             20824011         NaN   \n",
       "             20827182         NaN   \n",
       "             20921875         NaN   \n",
       "             20921876         NaN   \n",
       "...                           ...   \n",
       "relation     2296602          NaN   \n",
       "             7952616          NaN   \n",
       "             8117433   pedestrian   \n",
       "             9449564          NaN   \n",
       "             9449788          NaN   \n",
       "\n",
       "                                                                geometry  \\\n",
       "element_type osmid                                                         \n",
       "node         20823646                           POINT (0.12613 52.20262)   \n",
       "             20824011                           POINT (0.12837 52.21210)   \n",
       "             20827182                           POINT (0.12808 52.20007)   \n",
       "             20921875                           POINT (0.11811 52.20892)   \n",
       "             20921876                           POINT (0.11821 52.20887)   \n",
       "...                                                                  ...   \n",
       "relation     2296602   POLYGON ((0.11749 52.20818, 0.11787 52.20805, ...   \n",
       "             7952616   POLYGON ((0.12402 52.20161, 0.12397 52.20167, ...   \n",
       "             8117433   POLYGON ((0.11923 52.20575, 0.11934 52.20568, ...   \n",
       "             9449564   POLYGON ((0.11777 52.20689, 0.11777 52.20683, ...   \n",
       "             9449788   POLYGON ((0.11471 52.20675, 0.11488 52.20721, ...   \n",
       "\n",
       "                      layer              name      ref  alt_name barrier  \\\n",
       "element_type osmid                                                         \n",
       "node         20823646   NaN    Hobbs Pavilion      NaN  Mai Thai     NaN   \n",
       "             20824011   NaN   Midsummer House      NaN       NaN     NaN   \n",
       "             20827182   NaN               NaN      NaN       NaN     NaN   \n",
       "             20921875   NaN     Baron of Beef      NaN       NaN     NaN   \n",
       "             20921876   NaN         The Mitre      NaN       NaN     NaN   \n",
       "...                     ...               ...      ...       ...     ...   \n",
       "relation     2296602    NaN               NaN      NaN       NaN     NaN   \n",
       "             7952616    NaN  Butterfield Café   DOW011       NaN     NaN   \n",
       "             8117433    NaN     Market Square      NaN       NaN     NaN   \n",
       "             9449564    NaN               NaN      NaN       NaN     NaN   \n",
       "             9449788    NaN      Wren Library  TRIN019       NaN     NaN   \n",
       "\n",
       "                       addr:city addr:postcode      addr:street  ... cafe  \\\n",
       "element_type osmid                                               ...        \n",
       "node         20823646  Cambridge       CB1 1JH     Park Terrace  ...  NaN   \n",
       "             20824011  Cambridge       CB4 1HA  Victoria Avenue  ...  NaN   \n",
       "             20827182        NaN           NaN              NaN  ...  NaN   \n",
       "             20921875  Cambridge       CB2 1UF    Bridge Street  ...  NaN   \n",
       "             20921876  Cambridge       CB2 1UF    Bridge Street  ...  NaN   \n",
       "...                          ...           ...              ...  ...  ...   \n",
       "relation     2296602         NaN           NaN              NaN  ...  NaN   \n",
       "             7952616         NaN           NaN              NaN  ...  NaN   \n",
       "             8117433         NaN           NaN              NaN  ...  NaN   \n",
       "             9449564         NaN           NaN              NaN  ...  NaN   \n",
       "             9449788         NaN           NaN              NaN  ...  NaN   \n",
       "\n",
       "                      cost:coffee note:cost source:cost name:signed  \\\n",
       "element_type osmid                                                    \n",
       "node         20823646         NaN       NaN         NaN         NaN   \n",
       "             20824011         NaN       NaN         NaN         NaN   \n",
       "             20827182         NaN       NaN         NaN         NaN   \n",
       "             20921875         NaN       NaN         NaN         NaN   \n",
       "             20921876         NaN       NaN         NaN         NaN   \n",
       "...                           ...       ...         ...         ...   \n",
       "relation     2296602          NaN       NaN         NaN         NaN   \n",
       "             7952616          NaN       NaN         NaN         NaN   \n",
       "             8117433          NaN       NaN         NaN         NaN   \n",
       "             9449564          NaN       NaN         NaN         NaN   \n",
       "             9449788          NaN       NaN         NaN         NaN   \n",
       "\n",
       "                      toilets:handwashing informal  \\\n",
       "element_type osmid                                   \n",
       "node         20823646                 NaN      NaN   \n",
       "             20824011                 NaN      NaN   \n",
       "             20827182                 NaN      NaN   \n",
       "             20921875                 NaN      NaN   \n",
       "             20921876                 NaN      NaN   \n",
       "...                                   ...      ...   \n",
       "relation     2296602                  NaN      NaN   \n",
       "             7952616                  NaN      NaN   \n",
       "             8117433                  NaN      NaN   \n",
       "             9449564                  NaN      NaN   \n",
       "             9449788                  NaN      NaN   \n",
       "\n",
       "                                                                    ways  \\\n",
       "element_type osmid                                                         \n",
       "node         20823646                                                NaN   \n",
       "             20824011                                                NaN   \n",
       "             20827182                                                NaN   \n",
       "             20921875                                                NaN   \n",
       "             20921876                                                NaN   \n",
       "...                                                                  ...   \n",
       "relation     2296602                              [158914200, 172188574]   \n",
       "             7952616                               [13221520, 557118054]   \n",
       "             8117433   [95406719, 1039414783, 400160678, 400160680, 4...   \n",
       "             9449564                                         [166156237]   \n",
       "             9449788                               [26266016, 680899865]   \n",
       "\n",
       "                      surface:listed_status  \\\n",
       "element_type osmid                            \n",
       "node         20823646                   NaN   \n",
       "             20824011                   NaN   \n",
       "             20827182                   NaN   \n",
       "             20921875                   NaN   \n",
       "             20921876                   NaN   \n",
       "...                                     ...   \n",
       "relation     2296602                    NaN   \n",
       "             7952616                    NaN   \n",
       "             8117433               Grade II   \n",
       "             9449564                    NaN   \n",
       "             9449788                    NaN   \n",
       "\n",
       "                                                          surface:source  \n",
       "element_type osmid                                                        \n",
       "node         20823646                                                NaN  \n",
       "             20824011                                                NaN  \n",
       "             20827182                                                NaN  \n",
       "             20921875                                                NaN  \n",
       "             20921876                                                NaN  \n",
       "...                                                                  ...  \n",
       "relation     2296602                                                 NaN  \n",
       "             7952616                                                 NaN  \n",
       "             8117433   https://www.cambridgeindependent.co.uk/news/ca...  \n",
       "             9449564                                                 NaN  \n",
       "             9449788                                                 NaN  \n",
       "\n",
       "[2112 rows x 354 columns]>"
      ]
     },
     "execution_count": 396,
     "metadata": {},
     "output_type": "execute_result"
    }
   ],
   "source": [
    "pois.info"
   ]
  },
  {
   "cell_type": "code",
   "execution_count": 414,
   "metadata": {},
   "outputs": [
    {
     "ename": "KeyboardInterrupt",
     "evalue": "",
     "output_type": "error",
     "traceback": [
      "\u001b[0;31m---------------------------------------------------------------------------\u001b[0m",
      "\u001b[0;31mKeyboardInterrupt\u001b[0m                         Traceback (most recent call last)",
      "\u001b[1;32m/Users/simon/Documents/II/fynesse/notebooks/data-analysis-template.ipynb Cell 27\u001b[0m line \u001b[0;36m1\n\u001b[0;32m----> <a href='vscode-notebook-cell:/Users/simon/Documents/II/fynesse/notebooks/data-analysis-template.ipynb#Y113sZmlsZQ%3D%3D?line=0'>1</a>\u001b[0m fetch_place_data(\u001b[39m\"\u001b[39;49m\u001b[39mLondon\u001b[39;49m\u001b[39m\"\u001b[39;49m, db)\n",
      "\u001b[1;32m/Users/simon/Documents/II/fynesse/notebooks/data-analysis-template.ipynb Cell 27\u001b[0m line \u001b[0;36m2\n\u001b[1;32m      <a href='vscode-notebook-cell:/Users/simon/Documents/II/fynesse/notebooks/data-analysis-template.ipynb#Y113sZmlsZQ%3D%3D?line=0'>1</a>\u001b[0m \u001b[39mdef\u001b[39;00m \u001b[39mfetch_place_data\u001b[39m(place, db):\n\u001b[0;32m----> <a href='vscode-notebook-cell:/Users/simon/Documents/II/fynesse/notebooks/data-analysis-template.ipynb#Y113sZmlsZQ%3D%3D?line=1'>2</a>\u001b[0m     df \u001b[39m=\u001b[39m db\u001b[39m.\u001b[39;49mexecute_to_df(\u001b[39mf\u001b[39;49m\u001b[39m\"\"\"\u001b[39;49m\n\u001b[1;32m      <a href='vscode-notebook-cell:/Users/simon/Documents/II/fynesse/notebooks/data-analysis-template.ipynb#Y113sZmlsZQ%3D%3D?line=2'>3</a>\u001b[0m \u001b[39m        SELECT * FROM prices_coordinates_data\u001b[39;49m\n\u001b[1;32m      <a href='vscode-notebook-cell:/Users/simon/Documents/II/fynesse/notebooks/data-analysis-template.ipynb#Y113sZmlsZQ%3D%3D?line=3'>4</a>\u001b[0m \u001b[39m        WHERE\u001b[39;49m\n\u001b[1;32m      <a href='vscode-notebook-cell:/Users/simon/Documents/II/fynesse/notebooks/data-analysis-template.ipynb#Y113sZmlsZQ%3D%3D?line=4'>5</a>\u001b[0m \u001b[39m            town_city = \u001b[39;49m\u001b[39m'\u001b[39;49m\u001b[39m{\u001b[39;49;00mplace\u001b[39m.\u001b[39;49mupper()\u001b[39m}\u001b[39;49;00m\u001b[39m'\u001b[39;49m\n\u001b[1;32m      <a href='vscode-notebook-cell:/Users/simon/Documents/II/fynesse/notebooks/data-analysis-template.ipynb#Y113sZmlsZQ%3D%3D?line=5'>6</a>\u001b[0m \u001b[39m    \u001b[39;49m\u001b[39m\"\"\"\u001b[39;49m)\n\u001b[1;32m      <a href='vscode-notebook-cell:/Users/simon/Documents/II/fynesse/notebooks/data-analysis-template.ipynb#Y113sZmlsZQ%3D%3D?line=7'>8</a>\u001b[0m     geometry \u001b[39m=\u001b[39m gpd\u001b[39m.\u001b[39mpoints_from_xy(df\u001b[39m.\u001b[39mlongitude, df\u001b[39m.\u001b[39mlatitude)\n\u001b[1;32m      <a href='vscode-notebook-cell:/Users/simon/Documents/II/fynesse/notebooks/data-analysis-template.ipynb#Y113sZmlsZQ%3D%3D?line=8'>9</a>\u001b[0m     place_gdf \u001b[39m=\u001b[39m gpd\u001b[39m.\u001b[39mGeoDataFrame(df, geometry\u001b[39m=\u001b[39mgeometry, crs\u001b[39m=\u001b[39m\u001b[39m4326\u001b[39m)\n",
      "File \u001b[0;32m~/Documents/II/fynesse/fynesse/access.py:61\u001b[0m, in \u001b[0;36mDatabase.execute_to_df\u001b[0;34m(self, sql)\u001b[0m\n\u001b[1;32m     59\u001b[0m \u001b[39mdef\u001b[39;00m \u001b[39mexecute_to_df\u001b[39m(\u001b[39mself\u001b[39m, sql):\n\u001b[1;32m     60\u001b[0m     cur \u001b[39m=\u001b[39m \u001b[39mself\u001b[39m\u001b[39m.\u001b[39mconn\u001b[39m.\u001b[39mcursor()\n\u001b[0;32m---> 61\u001b[0m     cur\u001b[39m.\u001b[39;49mexecute(sql)\n\u001b[1;32m     62\u001b[0m     rows \u001b[39m=\u001b[39m cur\u001b[39m.\u001b[39mfetchall()\n\u001b[1;32m     63\u001b[0m     cols \u001b[39m=\u001b[39m [i[\u001b[39m0\u001b[39m] \u001b[39mfor\u001b[39;00m i \u001b[39min\u001b[39;00m cur\u001b[39m.\u001b[39mdescription]\n",
      "File \u001b[0;32m/opt/homebrew/lib/python3.11/site-packages/pymysql/cursors.py:153\u001b[0m, in \u001b[0;36mCursor.execute\u001b[0;34m(self, query, args)\u001b[0m\n\u001b[1;32m    149\u001b[0m     \u001b[39mpass\u001b[39;00m\n\u001b[1;32m    151\u001b[0m query \u001b[39m=\u001b[39m \u001b[39mself\u001b[39m\u001b[39m.\u001b[39mmogrify(query, args)\n\u001b[0;32m--> 153\u001b[0m result \u001b[39m=\u001b[39m \u001b[39mself\u001b[39;49m\u001b[39m.\u001b[39;49m_query(query)\n\u001b[1;32m    154\u001b[0m \u001b[39mself\u001b[39m\u001b[39m.\u001b[39m_executed \u001b[39m=\u001b[39m query\n\u001b[1;32m    155\u001b[0m \u001b[39mreturn\u001b[39;00m result\n",
      "File \u001b[0;32m/opt/homebrew/lib/python3.11/site-packages/pymysql/cursors.py:322\u001b[0m, in \u001b[0;36mCursor._query\u001b[0;34m(self, q)\u001b[0m\n\u001b[1;32m    320\u001b[0m conn \u001b[39m=\u001b[39m \u001b[39mself\u001b[39m\u001b[39m.\u001b[39m_get_db()\n\u001b[1;32m    321\u001b[0m \u001b[39mself\u001b[39m\u001b[39m.\u001b[39m_clear_result()\n\u001b[0;32m--> 322\u001b[0m conn\u001b[39m.\u001b[39;49mquery(q)\n\u001b[1;32m    323\u001b[0m \u001b[39mself\u001b[39m\u001b[39m.\u001b[39m_do_get_result()\n\u001b[1;32m    324\u001b[0m \u001b[39mreturn\u001b[39;00m \u001b[39mself\u001b[39m\u001b[39m.\u001b[39mrowcount\n",
      "File \u001b[0;32m/opt/homebrew/lib/python3.11/site-packages/pymysql/connections.py:558\u001b[0m, in \u001b[0;36mConnection.query\u001b[0;34m(self, sql, unbuffered)\u001b[0m\n\u001b[1;32m    556\u001b[0m     sql \u001b[39m=\u001b[39m sql\u001b[39m.\u001b[39mencode(\u001b[39mself\u001b[39m\u001b[39m.\u001b[39mencoding, \u001b[39m\"\u001b[39m\u001b[39msurrogateescape\u001b[39m\u001b[39m\"\u001b[39m)\n\u001b[1;32m    557\u001b[0m \u001b[39mself\u001b[39m\u001b[39m.\u001b[39m_execute_command(COMMAND\u001b[39m.\u001b[39mCOM_QUERY, sql)\n\u001b[0;32m--> 558\u001b[0m \u001b[39mself\u001b[39m\u001b[39m.\u001b[39m_affected_rows \u001b[39m=\u001b[39m \u001b[39mself\u001b[39;49m\u001b[39m.\u001b[39;49m_read_query_result(unbuffered\u001b[39m=\u001b[39;49munbuffered)\n\u001b[1;32m    559\u001b[0m \u001b[39mreturn\u001b[39;00m \u001b[39mself\u001b[39m\u001b[39m.\u001b[39m_affected_rows\n",
      "File \u001b[0;32m/opt/homebrew/lib/python3.11/site-packages/pymysql/connections.py:822\u001b[0m, in \u001b[0;36mConnection._read_query_result\u001b[0;34m(self, unbuffered)\u001b[0m\n\u001b[1;32m    820\u001b[0m \u001b[39melse\u001b[39;00m:\n\u001b[1;32m    821\u001b[0m     result \u001b[39m=\u001b[39m MySQLResult(\u001b[39mself\u001b[39m)\n\u001b[0;32m--> 822\u001b[0m     result\u001b[39m.\u001b[39;49mread()\n\u001b[1;32m    823\u001b[0m \u001b[39mself\u001b[39m\u001b[39m.\u001b[39m_result \u001b[39m=\u001b[39m result\n\u001b[1;32m    824\u001b[0m \u001b[39mif\u001b[39;00m result\u001b[39m.\u001b[39mserver_status \u001b[39mis\u001b[39;00m \u001b[39mnot\u001b[39;00m \u001b[39mNone\u001b[39;00m:\n",
      "File \u001b[0;32m/opt/homebrew/lib/python3.11/site-packages/pymysql/connections.py:1207\u001b[0m, in \u001b[0;36mMySQLResult.read\u001b[0;34m(self)\u001b[0m\n\u001b[1;32m   1205\u001b[0m         \u001b[39mself\u001b[39m\u001b[39m.\u001b[39m_read_load_local_packet(first_packet)\n\u001b[1;32m   1206\u001b[0m     \u001b[39melse\u001b[39;00m:\n\u001b[0;32m-> 1207\u001b[0m         \u001b[39mself\u001b[39;49m\u001b[39m.\u001b[39;49m_read_result_packet(first_packet)\n\u001b[1;32m   1208\u001b[0m \u001b[39mfinally\u001b[39;00m:\n\u001b[1;32m   1209\u001b[0m     \u001b[39mself\u001b[39m\u001b[39m.\u001b[39mconnection \u001b[39m=\u001b[39m \u001b[39mNone\u001b[39;00m\n",
      "File \u001b[0;32m/opt/homebrew/lib/python3.11/site-packages/pymysql/connections.py:1284\u001b[0m, in \u001b[0;36mMySQLResult._read_result_packet\u001b[0;34m(self, first_packet)\u001b[0m\n\u001b[1;32m   1282\u001b[0m \u001b[39mself\u001b[39m\u001b[39m.\u001b[39mfield_count \u001b[39m=\u001b[39m first_packet\u001b[39m.\u001b[39mread_length_encoded_integer()\n\u001b[1;32m   1283\u001b[0m \u001b[39mself\u001b[39m\u001b[39m.\u001b[39m_get_descriptions()\n\u001b[0;32m-> 1284\u001b[0m \u001b[39mself\u001b[39;49m\u001b[39m.\u001b[39;49m_read_rowdata_packet()\n",
      "File \u001b[0;32m/opt/homebrew/lib/python3.11/site-packages/pymysql/connections.py:1331\u001b[0m, in \u001b[0;36mMySQLResult._read_rowdata_packet\u001b[0;34m(self)\u001b[0m\n\u001b[1;32m   1329\u001b[0m rows \u001b[39m=\u001b[39m []\n\u001b[1;32m   1330\u001b[0m \u001b[39mwhile\u001b[39;00m \u001b[39mTrue\u001b[39;00m:\n\u001b[0;32m-> 1331\u001b[0m     packet \u001b[39m=\u001b[39m \u001b[39mself\u001b[39;49m\u001b[39m.\u001b[39;49mconnection\u001b[39m.\u001b[39;49m_read_packet()\n\u001b[1;32m   1332\u001b[0m     \u001b[39mif\u001b[39;00m \u001b[39mself\u001b[39m\u001b[39m.\u001b[39m_check_packet_is_eof(packet):\n\u001b[1;32m   1333\u001b[0m         \u001b[39mself\u001b[39m\u001b[39m.\u001b[39mconnection \u001b[39m=\u001b[39m \u001b[39mNone\u001b[39;00m  \u001b[39m# release reference to kill cyclic reference.\u001b[39;00m\n",
      "File \u001b[0;32m/opt/homebrew/lib/python3.11/site-packages/pymysql/connections.py:758\u001b[0m, in \u001b[0;36mConnection._read_packet\u001b[0;34m(self, packet_type)\u001b[0m\n\u001b[1;32m    752\u001b[0m     \u001b[39mraise\u001b[39;00m err\u001b[39m.\u001b[39mInternalError(\n\u001b[1;32m    753\u001b[0m         \u001b[39m\"\u001b[39m\u001b[39mPacket sequence number wrong - got \u001b[39m\u001b[39m%d\u001b[39;00m\u001b[39m expected \u001b[39m\u001b[39m%d\u001b[39;00m\u001b[39m\"\u001b[39m\n\u001b[1;32m    754\u001b[0m         \u001b[39m%\u001b[39m (packet_number, \u001b[39mself\u001b[39m\u001b[39m.\u001b[39m_next_seq_id)\n\u001b[1;32m    755\u001b[0m     )\n\u001b[1;32m    756\u001b[0m \u001b[39mself\u001b[39m\u001b[39m.\u001b[39m_next_seq_id \u001b[39m=\u001b[39m (\u001b[39mself\u001b[39m\u001b[39m.\u001b[39m_next_seq_id \u001b[39m+\u001b[39m \u001b[39m1\u001b[39m) \u001b[39m%\u001b[39m \u001b[39m256\u001b[39m\n\u001b[0;32m--> 758\u001b[0m recv_data \u001b[39m=\u001b[39m \u001b[39mself\u001b[39;49m\u001b[39m.\u001b[39;49m_read_bytes(bytes_to_read)\n\u001b[1;32m    759\u001b[0m \u001b[39mif\u001b[39;00m DEBUG:\n\u001b[1;32m    760\u001b[0m     dump_packet(recv_data)\n",
      "File \u001b[0;32m/opt/homebrew/lib/python3.11/site-packages/pymysql/connections.py:779\u001b[0m, in \u001b[0;36mConnection._read_bytes\u001b[0;34m(self, num_bytes)\u001b[0m\n\u001b[1;32m    777\u001b[0m \u001b[39mwhile\u001b[39;00m \u001b[39mTrue\u001b[39;00m:\n\u001b[1;32m    778\u001b[0m     \u001b[39mtry\u001b[39;00m:\n\u001b[0;32m--> 779\u001b[0m         data \u001b[39m=\u001b[39m \u001b[39mself\u001b[39m\u001b[39m.\u001b[39m_rfile\u001b[39m.\u001b[39mread(num_bytes)\n\u001b[1;32m    780\u001b[0m         \u001b[39mbreak\u001b[39;00m\n\u001b[1;32m    781\u001b[0m     \u001b[39mexcept\u001b[39;00m \u001b[39mOSError\u001b[39;00m \u001b[39mas\u001b[39;00m e:\n",
      "File \u001b[0;32m/opt/homebrew/Cellar/python@3.11/3.11.6_1/Frameworks/Python.framework/Versions/3.11/lib/python3.11/socket.py:706\u001b[0m, in \u001b[0;36mSocketIO.readinto\u001b[0;34m(self, b)\u001b[0m\n\u001b[1;32m    704\u001b[0m \u001b[39mwhile\u001b[39;00m \u001b[39mTrue\u001b[39;00m:\n\u001b[1;32m    705\u001b[0m     \u001b[39mtry\u001b[39;00m:\n\u001b[0;32m--> 706\u001b[0m         \u001b[39mreturn\u001b[39;00m \u001b[39mself\u001b[39;49m\u001b[39m.\u001b[39;49m_sock\u001b[39m.\u001b[39;49mrecv_into(b)\n\u001b[1;32m    707\u001b[0m     \u001b[39mexcept\u001b[39;00m timeout:\n\u001b[1;32m    708\u001b[0m         \u001b[39mself\u001b[39m\u001b[39m.\u001b[39m_timeout_occurred \u001b[39m=\u001b[39m \u001b[39mTrue\u001b[39;00m\n",
      "\u001b[0;31mKeyboardInterrupt\u001b[0m: "
     ]
    }
   ],
   "source": [
    "fetch_place_data(\"London\", db)"
   ]
  }
 ],
 "metadata": {
  "kernelspec": {
   "display_name": "Python 3",
   "language": "python",
   "name": "python3"
  },
  "language_info": {
   "codemirror_mode": {
    "name": "ipython",
    "version": 3
   },
   "file_extension": ".py",
   "mimetype": "text/x-python",
   "name": "python",
   "nbconvert_exporter": "python",
   "pygments_lexer": "ipython3",
   "version": "3.11.6"
  }
 },
 "nbformat": 4,
 "nbformat_minor": 5
}
